{
 "cells": [
  {
   "cell_type": "markdown",
   "metadata": {},
   "source": [
    "### Models Cross-Validation (cross_validate)"
   ]
  },
  {
   "cell_type": "code",
   "execution_count": 1,
   "metadata": {},
   "outputs": [],
   "source": [
    "from sklearn.model_selection import StratifiedKFold, cross_validate\n",
    "\n",
    "# Keeps track of models/model quality using cross-validation\n",
    "def show_model_cvs(models, cv_type, x_train, y_train, metrics, is_aggregated=True):\n",
    "    \n",
    "    \"\"\"\n",
    "    Shows models results based on certain metrics and cross-validation type\n",
    "    \n",
    "    model - a list of models to be evaluated (Class must be passed)\n",
    "    cv_type - type of cross-validation\n",
    "    metrics - a list of metrics to be evaluated\n",
    "    is_aggregated - returns mean estimation of the cross-validation\n",
    "    \n",
    "    \"\"\"\n",
    "    \n",
    "    res_df = pd.DataFrame()\n",
    "    \n",
    "    for model in models:\n",
    "        cv_results = cross_validate(model, x, y, cv=cv_type, scoring=metrics)\n",
    "        cv_results['Model'] = str(model).split('(')[0] # extract the name of the current model \n",
    "        res_df = res_df.append(pd.DataFrame(cv_results))\n",
    "        \n",
    "    # Making the first column as a model name + drop unnecessary columns\n",
    "    new_columns_order = list(res_df.columns[2:-1])\n",
    "    new_columns_order.insert(0, 'Model')\n",
    "    \n",
    "    # Returns score either for each fold or average estimation \n",
    "    if is_aggregated:\n",
    "        return res_df[new_columns_order].groupby(by='Model').mean()\n",
    "    else:\n",
    "        return res_df[new_columns_order]"
   ]
  },
  {
   "cell_type": "markdown",
   "metadata": {},
   "source": [
    "### Models Cross-Validation (cross_val_score)"
   ]
  },
  {
   "cell_type": "code",
   "execution_count": 6,
   "metadata": {},
   "outputs": [],
   "source": [
    "import pandas as pd\n",
    "from sklearn.model_selection import StratifiedKFold, cross_val_score\n",
    "\n",
    "# Keeps track of models/model quality using cross-validation\n",
    "def show_model_cvs(models, cv_type, x_train, y_train, metric, is_aggregated=True):\n",
    "    \n",
    "    \"\"\"\n",
    "    Shows models results based on certain metrics and cross-validation type\n",
    "    \n",
    "    model - a list of models to be evaluated (Class must be passed)\n",
    "    cv_type - type of cross-validation\n",
    "    metric - the name of the metric to calculate\n",
    "    is_aggregated - returns mean estimation of the cross-validation\n",
    "    \n",
    "    \"\"\"\n",
    "    \n",
    "    res_df = pd.DataFrame()\n",
    "    \n",
    "    for model in models:\n",
    "        cv_results = cross_val_score(model, x, y, cv=cv_type, scoring=metric)\n",
    "        res_df.append(pd.DataFrame({'Model': str(model).split('(')[0],\n",
    "                                    'CV-Results': cv_results}))\n",
    "        \n",
    "    # Returns score either for each fold or average estimation \n",
    "    if is_aggregated:\n",
    "        return res_df.groupby(by='Model').mean()\n",
    "    else:\n",
    "        return res_df"
   ]
  },
  {
   "cell_type": "code",
   "execution_count": null,
   "metadata": {},
   "outputs": [],
   "source": []
  }
 ],
 "metadata": {
  "kernelspec": {
   "display_name": "Python 3",
   "language": "python",
   "name": "python3"
  },
  "language_info": {
   "codemirror_mode": {
    "name": "ipython",
    "version": 3
   },
   "file_extension": ".py",
   "mimetype": "text/x-python",
   "name": "python",
   "nbconvert_exporter": "python",
   "pygments_lexer": "ipython3",
   "version": "3.7.9"
  }
 },
 "nbformat": 4,
 "nbformat_minor": 4
}
