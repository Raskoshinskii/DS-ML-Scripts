{
 "cells": [
  {
   "cell_type": "markdown",
   "metadata": {},
   "source": [
    "### Multi DataFrame Merging\n",
    "Merges a list of DFs one by one"
   ]
  },
  {
   "cell_type": "code",
   "execution_count": 1,
   "metadata": {},
   "outputs": [],
   "source": [
    "def pd_merge_many(lst_dfs, on):\n",
    "    '''\n",
    "    lst_dfs - list of dataframes \n",
    "    on - merging column \n",
    "    \n",
    "    '''\n",
    "    from functools import reduce\n",
    "    reduce_func = lambda left,right: pd.merge(left, right, on=on)\n",
    "    return reduce(reduce_func, lst_dfs)"
   ]
  },
  {
   "cell_type": "markdown",
   "metadata": {},
   "source": [
    "### DataFrame Optimization\n",
    "Optimizes features in order to reduce RAM usage"
   ]
  },
  {
   "cell_type": "code",
   "execution_count": 2,
   "metadata": {},
   "outputs": [],
   "source": [
    "def optimize_floats(df):\n",
    "    floats = df.select_dtypes(include=['float64']).columns.to_list()\n",
    "    df[floats] = df[floats].apply(pd.to_numeric, downcast='float')\n",
    "    return df\n",
    "\n",
    "def optimize_ints(df):\n",
    "    ints = df.select_dtypes(include=['int64']).columns.to_list()\n",
    "    df[ints] = df[ints].apply(pd.to_numeric, downcast='integer')\n",
    "    return df\n",
    "\n",
    "def optimize_objects(df, features = []):\n",
    "    for col in df.select_dtypes(include=['object']):\n",
    "        if col not in features:\n",
    "            num_unique_values = len(df[col].unique())\n",
    "            num_total_values = len(df[col])\n",
    "            if float(num_unique_values) / num_total_values < 0.5:\n",
    "                df[col] = df[col].astype('category')\n",
    "        else:\n",
    "            df[col] = pd.to_datetime(df[col])\n",
    "    return df\n",
    "\n",
    "def optimize(df, features = []):\n",
    "    return optimize_floats(optimize_ints(optimize_objects(df, features)))"
   ]
  }
 ],
 "metadata": {
  "kernelspec": {
   "display_name": "Python 3",
   "language": "python",
   "name": "python3"
  },
  "language_info": {
   "codemirror_mode": {
    "name": "ipython",
    "version": 3
   },
   "file_extension": ".py",
   "mimetype": "text/x-python",
   "name": "python",
   "nbconvert_exporter": "python",
   "pygments_lexer": "ipython3",
   "version": "3.7.9"
  }
 },
 "nbformat": 4,
 "nbformat_minor": 4
}
