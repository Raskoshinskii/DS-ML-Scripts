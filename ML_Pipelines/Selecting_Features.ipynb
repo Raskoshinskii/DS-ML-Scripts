{
 "cells": [
  {
   "cell_type": "markdown",
   "metadata": {},
   "source": [
    "### Getting Categorical/Binary Feature Names"
   ]
  },
  {
   "cell_type": "code",
   "execution_count": 2,
   "metadata": {},
   "outputs": [],
   "source": [
    "def return_bin_cat_columns(df):\n",
    "    \"\"\"\n",
    "    Returns categorical and binary feature names\n",
    "    \n",
    "    \"\"\"\n",
    "    bin_columns = [feature for feature in df.columns if df[feature].value_counts().shape[0] == 2]\n",
    "    cat_columns = df.columns.difference(bin_columns).to_list()\n",
    "    \n",
    "    return bin_columns, cat_columns\n",
    "\n",
    "# bin_columns, cat_columns = return_bin_cat_columns(cat_features.iloc[:, :-1])"
   ]
  },
  {
   "cell_type": "code",
   "execution_count": 1,
   "metadata": {},
   "outputs": [],
   "source": [
    "def get_features(dataset):\n",
    "    \"\"\"\n",
    "    Extracts features from a dataset (e.g. binary, numeric...)\n",
    "    \n",
    "    Input - DataFrame:  dataset\n",
    "    Output - tuple: num_features, bin_features, cat_features\n",
    "    \n",
    "    \"\"\"\n",
    "    # Features that have object dtype\n",
    "    object_features = dataset.select_dtypes(['object']).describe()\n",
    "    \n",
    "    # Select binary features\n",
    "    bin_features = object_features.columns[object_features.loc['unique'] == 2].to_list()\n",
    "    \n",
    "    # Categorical features\n",
    "    cat_features = object_features.columns[object_features.loc['unique'] > 2].to_list()\n",
    "    \n",
    "    # Numeric Features\n",
    "    num_features = dataset.select_dtypes(['int64', 'float64']).columns.to_list()\n",
    "    \n",
    "    return dataset[num_features], dataset[bin_features], dataset[cat_features]"
   ]
  },
  {
   "cell_type": "code",
   "execution_count": null,
   "metadata": {},
   "outputs": [],
   "source": []
  }
 ],
 "metadata": {
  "kernelspec": {
   "display_name": "Python 3",
   "language": "python",
   "name": "python3"
  },
  "language_info": {
   "codemirror_mode": {
    "name": "ipython",
    "version": 3
   },
   "file_extension": ".py",
   "mimetype": "text/x-python",
   "name": "python",
   "nbconvert_exporter": "python",
   "pygments_lexer": "ipython3",
   "version": "3.7.9"
  }
 },
 "nbformat": 4,
 "nbformat_minor": 4
}
