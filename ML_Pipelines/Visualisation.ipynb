{
 "cells": [
  {
   "cell_type": "markdown",
   "metadata": {},
   "source": [
    "### Correlation HeatMap\n",
    "Beautiful HeatMap for showing feature correlation"
   ]
  },
  {
   "cell_type": "code",
   "execution_count": 2,
   "metadata": {},
   "outputs": [],
   "source": [
    "def make_btf_heatmap(df_corrs, title):\n",
    "    fig, ax = plt.subplots(figsize=(12, 10))\n",
    "    mask = np.triu(np.ones_like(df_corrs, dtype=np.bool))\n",
    "    mask = mask[1:, :-1]\n",
    "    corr = df_corrs.iloc[1:,:-1].copy()\n",
    "    cmap = sns.diverging_palette(0, 230, 90, 60, as_cmap=True)\n",
    "    sns.heatmap(corr,\n",
    "                mask=mask, \n",
    "                annot=True,\n",
    "                fmt=\".2f\",\n",
    "                linewidths=5,\n",
    "                cmap=cmap,\n",
    "                vmin=-1,\n",
    "                vmax=1, \n",
    "                cbar_kws={\"shrink\": .8},\n",
    "                square=True)\n",
    "    \n",
    "    yticks = [i.upper() for i in corr.index]\n",
    "    xticks = [i.upper() for i in corr.columns]\n",
    "    plt.yticks(plt.yticks()[0], labels=yticks, rotation=0)\n",
    "    plt.xticks(plt.xticks()[0], labels=xticks)\n",
    "    plt.title(title, loc='left', fontsize=18)\n",
    "    plt.show()"
   ]
  },
  {
   "cell_type": "markdown",
   "metadata": {},
   "source": [
    "### Progress Bar\n",
    "Shows progress bar when iterating over objects"
   ]
  },
  {
   "cell_type": "code",
   "execution_count": 4,
   "metadata": {},
   "outputs": [
    {
     "data": {
      "application/vnd.jupyter.widget-view+json": {
       "model_id": "30546bacdc1e4bb198319101528600ee",
       "version_major": 2,
       "version_minor": 0
      },
      "text/plain": [
       "HBox(children=(HTML(value=''), FloatProgress(value=0.0, max=1.0), HTML(value='')))"
      ]
     },
     "metadata": {},
     "output_type": "display_data"
    },
    {
     "name": "stdout",
     "output_type": "stream",
     "text": [
      "0\n",
      "\n"
     ]
    }
   ],
   "source": [
    "from tqdm.notebook import tqdm as log_progress\n",
    "for i in log_progress(range(1)):\n",
    "    print(i)"
   ]
  },
  {
   "cell_type": "markdown",
   "metadata": {},
   "source": [
    "### NaN Ratio Hist\n",
    "Plots a histogram of NaN values for features"
   ]
  },
  {
   "cell_type": "code",
   "execution_count": 1,
   "metadata": {},
   "outputs": [],
   "source": [
    "def plot_nan_ration(df, figsize=(10,5), title='Numerical Features'):\n",
    "    \"\"\"\n",
    "    Plots a histogram with NaN ration and its features \n",
    "    It only takes into account the fact that the target features is located in the end of a DataFrame!\n",
    "    \n",
    "    \"\"\"\n",
    "    fig = plt.figure(figsize=figsize)\n",
    "    plt.hist(df.iloc[:,:-1].isna().sum()/df.shape[0])\n",
    "    plt.xlabel('NaN Fraction')\n",
    "    plt.ylabel('Number of Features')\n",
    "    plt.title(title)\n",
    "    plt.grid();"
   ]
  },
  {
   "cell_type": "markdown",
   "metadata": {},
   "source": [
    "### Multiple Plot (Bar, Count...)"
   ]
  },
  {
   "cell_type": "code",
   "execution_count": 1,
   "metadata": {},
   "outputs": [],
   "source": [
    "# fig, axes = plt.subplots(7, 3, figsize=(25, 25))\n",
    "# for indx, feature in enumerate(cat_features[columns].iloc[:, :-1]):\n",
    "#     sns.countplot(data=cat_features[columns], x=feature, hue='is_churn', ax=axes[indx // 3, indx % 3])"
   ]
  },
  {
   "cell_type": "markdown",
   "metadata": {},
   "source": [
    "### Multidimensional Data Plotting \n"
   ]
  },
  {
   "cell_type": "code",
   "execution_count": 2,
   "metadata": {},
   "outputs": [
    {
     "ename": "NameError",
     "evalue": "name 'SimpleImputer' is not defined",
     "output_type": "error",
     "traceback": [
      "\u001b[1;31m---------------------------------------------------------------------------\u001b[0m",
      "\u001b[1;31mNameError\u001b[0m                                 Traceback (most recent call last)",
      "\u001b[1;32m<ipython-input-2-f7c2f9c5c1b8>\u001b[0m in \u001b[0;36m<module>\u001b[1;34m\u001b[0m\n\u001b[0;32m      5\u001b[0m def plot_multidim_data(x_train,\n\u001b[0;32m      6\u001b[0m                        \u001b[0my_train\u001b[0m\u001b[1;33m,\u001b[0m\u001b[1;33m\u001b[0m\u001b[1;33m\u001b[0m\u001b[0m\n\u001b[1;32m----> 7\u001b[1;33m                        \u001b[0mcat_bin_imputer\u001b[0m\u001b[1;33m=\u001b[0m\u001b[0mSimpleImputer\u001b[0m\u001b[1;33m(\u001b[0m\u001b[0mstrategy\u001b[0m\u001b[1;33m=\u001b[0m\u001b[1;34m'most_frequent'\u001b[0m\u001b[1;33m)\u001b[0m\u001b[1;33m,\u001b[0m\u001b[1;33m\u001b[0m\u001b[1;33m\u001b[0m\u001b[0m\n\u001b[0m\u001b[0;32m      8\u001b[0m                        \u001b[0mcat_bin_encoder\u001b[0m\u001b[1;33m=\u001b[0m\u001b[0mCatBoostEncoder\u001b[0m\u001b[1;33m(\u001b[0m\u001b[0mrandom_state\u001b[0m\u001b[1;33m=\u001b[0m\u001b[0mSEED\u001b[0m\u001b[1;33m)\u001b[0m\u001b[1;33m,\u001b[0m\u001b[1;33m\u001b[0m\u001b[1;33m\u001b[0m\u001b[0m\n\u001b[0;32m      9\u001b[0m                        \u001b[0mnum_imputer\u001b[0m\u001b[1;33m=\u001b[0m\u001b[0mSimpleImputer\u001b[0m\u001b[1;33m(\u001b[0m\u001b[0mstrategy\u001b[0m\u001b[1;33m=\u001b[0m\u001b[1;34m'mean'\u001b[0m\u001b[1;33m)\u001b[0m\u001b[1;33m,\u001b[0m\u001b[1;33m\u001b[0m\u001b[1;33m\u001b[0m\u001b[0m\n",
      "\u001b[1;31mNameError\u001b[0m: name 'SimpleImputer' is not defined"
     ]
    }
   ],
   "source": [
    "from category_encoders.cat_boost import CatBoostEncoder\n",
    "from sklearn.decomposition import PCA\n",
    "\n",
    "# Функция для визуализации многомерной выборки\n",
    "def plot_multidim_data(x_train,\n",
    "                       y_train, \n",
    "                       cat_bin_imputer=SimpleImputer(strategy='most_frequent'),\n",
    "                       cat_bin_encoder=CatBoostEncoder(random_state=SEED),\n",
    "                       num_imputer=SimpleImputer(strategy='mean'),\n",
    "                       num_scaler=StandardScaler(),\n",
    "                       dim_red_method=PCA(n_components=2),\n",
    "                       sampling_method=None,\n",
    "                       fig_size=(12,6),\n",
    "                       title='2D Feature Space (PCA)'):\n",
    "    \"\"\"\n",
    "    x_train - matrix of features that includes nominal features (categorical and binary features) and continious features\n",
    "    y_train - target feature\n",
    "    \n",
    "    x_train is then splitted according features types. Each feature is then processed separately\n",
    "    \n",
    "    Continuous Features must have int64 or float64 data type;\n",
    "    Nominal Features must have data type Object;\n",
    "    \n",
    "    \"\"\"\n",
    "    \n",
    "    # Features Selection\n",
    "    num_features = x_train.select_dtypes(include=['float64', 'int64'])\n",
    "    cat_bin_features = x_train.select_dtypes(include=['object'])\n",
    "    \n",
    "    # Categorical/Binary Features Processing \n",
    "    cat_bin_features = cat_bin_imputer.fit_transform(cat_bin_features)\n",
    "    cat_bin_features = cat_bin_encoder.fit_transform(cat_bin_features, y_train)\n",
    "    \n",
    "    # Numerical Features Processing\n",
    "    num_features = num_imputer.fit_transform(num_features)\n",
    "    num_features = num_scaler.fit_transform(num_features)\n",
    "\n",
    "    # Final Matrix of Features\n",
    "    final_matrix = np.hstack((num_features, cat_bin_features))\n",
    "    \n",
    "    target_name = y_train.name\n",
    "    \n",
    "    # If there is a sampling method (over/down)\n",
    "    if sampling_method:\n",
    "        final_matrix, y_train = sampling_method.fit_resample(final_matrix, y_train.values)\n",
    "        \n",
    "    final_matrix_2d = pd.DataFrame(dim_red_method.fit_transform(final_matrix))\n",
    "    final_matrix_2d[target_name] = y_train\n",
    "    \n",
    "    print('Number of Samples (Negative Class): ', final_matrix_2d[final_matrix_2d[target_name] == np.unique(y_train).min()].shape[0])\n",
    "    print('Number of Samples (Positive Class): ', final_matrix_2d[final_matrix_2d[target_name] == np.unique(y_train).max()].shape[0])\n",
    "    \n",
    "    # Plotting\n",
    "    plt.figure(figsize=fig_size)\n",
    "    plt.scatter(final_matrix_2d[final_matrix_2d[target_name] == np.unique(y_train)[0]][0], \n",
    "                final_matrix_2d[final_matrix_2d[target_name] == np.unique(y_train)[0]][1],\n",
    "                label=np.unique(y_train)[0])\n",
    "    \n",
    "    plt.scatter(final_matrix_2d[final_matrix_2d[target_name] == np.unique(y_train)[1]][0], \n",
    "                final_matrix_2d[final_matrix_2d[target_name] == np.unique(y_train)[1]][1],\n",
    "                label=np.unique(y_train)[1])\n",
    "    plt.xlabel('First Component')\n",
    "    plt.ylabel('Second Component')\n",
    "    plt.title(title)\n",
    "    plt.grid()\n",
    "    plt.legend()\n",
    "    \n",
    "# %%time\n",
    "# plot_multidim_data(x_train=x_train,\n",
    "#                    y_train=y_train, \n",
    "#                    cat_bin_imputer=SimpleImputer(strategy='constant', fill_value='unknown'),\n",
    "#                    cat_bin_encoder=CatBoostEncoder(random_state=SEED),\n",
    "#                    num_imputer=SimpleImputer(strategy='mean'),\n",
    "#                    num_scaler=StandardScaler(),\n",
    "#                    dim_red_method=PCA(n_components=2, random_state=SEED),\n",
    "#                    fig_size=(25,15), \n",
    "#                    title='2D Feature Space (PCA)')"
   ]
  },
  {
   "cell_type": "code",
   "execution_count": null,
   "metadata": {},
   "outputs": [],
   "source": []
  }
 ],
 "metadata": {
  "kernelspec": {
   "display_name": "Python 3",
   "language": "python",
   "name": "python3"
  },
  "language_info": {
   "codemirror_mode": {
    "name": "ipython",
    "version": 3
   },
   "file_extension": ".py",
   "mimetype": "text/x-python",
   "name": "python",
   "nbconvert_exporter": "python",
   "pygments_lexer": "ipython3",
   "version": "3.7.9"
  }
 },
 "nbformat": 4,
 "nbformat_minor": 4
}
