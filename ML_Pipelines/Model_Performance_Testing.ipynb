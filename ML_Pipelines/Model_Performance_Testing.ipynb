{
 "cells": [
  {
   "cell_type": "markdown",
   "metadata": {},
   "source": [
    "### Learning Curves\n",
    "Plots learning curves with cross-validation"
   ]
  },
  {
   "cell_type": "code",
   "execution_count": 2,
   "metadata": {},
   "outputs": [],
   "source": [
    "from sklearn.model_selection import learning_curve\n",
    "\n",
    "# Function for plotting Learning Curves\n",
    "def plot_with_std(n_samples, data, **kwargs):\n",
    "    mu, std = data.mean(1), data.std(1)\n",
    "    lines = plt.plot(n_samples, mu, '-', **kwargs)\n",
    "    plt.fill_between(n_samples, mu - std, mu + std, edgecolor='none', facecolor=lines[0].get_color(), alpha=0.2)\n",
    "\n",
    "def plot_learning_curve(model, x_train, y_train, cv_type, scorer, train_data_split=20, shuffle=True):\n",
    "    \"\"\"\n",
    "    model:\n",
    "        Model to fit\n",
    "        \n",
    "    x_train, y_train: DataFrame\n",
    "    \n",
    "    cv_type:\n",
    "        Type of cross-validation\n",
    "        \n",
    "    scorer:\n",
    "        Metrci to calculate\n",
    "\n",
    "    \"\"\"\n",
    "    train_sizes = np.linspace(0.05, 1, train_data_split)\n",
    "    n_train, train_curve, val_curve = learning_curve(estimator=model, X=x_train, y=y_train,\n",
    "                                                     cv=cv_type, scoring=scorer, train_sizes=train_sizes,\n",
    "                                                     n_jobs=-1, shuffle=shuffle, random_state=SEED)\n",
    "    plt.figure(figsize=(20,8))\n",
    "    plot_with_std(n_train, train_curve, label='Training Scores')\n",
    "    plot_with_std(n_train, val_curve, label='Validation Scores')\n",
    "    plt.xlabel('Training Set Size')\n",
    "    plt.ylabel(scorer)\n",
    "    plt.legend()\n",
    "    plt.grid()\n",
    "    \n",
    "    \n",
    "# %%time\n",
    "# plot_learning_curve(model=model_pipeline,\n",
    "#                     x_train=x_train,\n",
    "#                     y_train=y_train, \n",
    "#                     cv_type=StratifiedKFold(shuffle=True, random_state=SEED),\n",
    "#                     scorer='roc_auc')"
   ]
  },
  {
   "cell_type": "code",
   "execution_count": null,
   "metadata": {},
   "outputs": [],
   "source": []
  }
 ],
 "metadata": {
  "kernelspec": {
   "display_name": "Python 3",
   "language": "python",
   "name": "python3"
  },
  "language_info": {
   "codemirror_mode": {
    "name": "ipython",
    "version": 3
   },
   "file_extension": ".py",
   "mimetype": "text/x-python",
   "name": "python",
   "nbconvert_exporter": "python",
   "pygments_lexer": "ipython3",
   "version": "3.7.9"
  }
 },
 "nbformat": 4,
 "nbformat_minor": 4
}
